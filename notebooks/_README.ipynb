{
 "cells": [
  {
   "cell_type": "markdown",
   "metadata": {},
   "source": [
    "Using a Jupyter Notebook\n",
    "========================"
   ]
  },
  {
   "cell_type": "markdown",
   "metadata": {},
   "source": [
    "* Click the \"Run\" button in the toolbar to execute code\n",
    "* May also press command + enter\n",
    "* To restart, click Kernel -> Restart"
   ]
  },
  {
   "cell_type": "markdown",
   "metadata": {},
   "source": [
    "Week 1 notebooks\n",
    "================\n",
    "\n",
    "* [notes](_notes_week1.ipynb)\n",
    "* [exercises](https://machow.github.io/2018-pton-exs/week-1.html#Basic-string)"
   ]
  },
  {
   "cell_type": "markdown",
   "metadata": {},
   "source": [
    "Week 2 notebooks\n",
    "====\n",
    "\n",
    "* [notes](_notes_week2.ipynb)\n",
    "* [exercises](https://machow.github.io/2018-pton-exs/week-2.html)\n",
    "* [billboard project](02_billboard_project.ipynb)\n"
   ]
  },
  {
   "cell_type": "markdown",
   "metadata": {},
   "source": [
    "Resources\n",
    "======"
   ]
  },
  {
   "cell_type": "markdown",
   "metadata": {},
   "source": [
    "* http://python.org - python home page\n",
    "* [anaconda](https://www.anaconda.com/download/) - convenient way to install python, with many common tools.\n",
    "* [overview or jupyter notebook](http://www.datacarpentry.org/python-ecology-lesson/setup/)"
   ]
  }
 ],
 "metadata": {
  "anaconda-cloud": {},
  "kernelspec": {
   "display_name": "Python 3",
   "language": "python",
   "name": "python3"
  },
  "language_info": {
   "codemirror_mode": {
    "name": "ipython",
    "version": 3
   },
   "file_extension": ".py",
   "mimetype": "text/x-python",
   "name": "python",
   "nbconvert_exporter": "python",
   "pygments_lexer": "ipython3",
   "version": "3.5.2"
  }
 },
 "nbformat": 4,
 "nbformat_minor": 2
}
