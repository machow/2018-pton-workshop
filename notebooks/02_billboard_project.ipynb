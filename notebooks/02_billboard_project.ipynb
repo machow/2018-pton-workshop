{
 "cells": [
  {
   "cell_type": "markdown",
   "metadata": {},
   "source": [
    "Import libraries\n",
    "----------------"
   ]
  },
  {
   "cell_type": "code",
   "execution_count": null,
   "metadata": {},
   "outputs": [],
   "source": [
    "import pandas as pd\n",
    "from utils import get_billboard, plot_hits"
   ]
  },
  {
   "cell_type": "markdown",
   "metadata": {},
   "source": [
    "Get the `id` for your Favorite Artist\n",
    "-----------------------------------\n",
    "\n",
    "1. Use the function `get_billboard` to find your favorite artist.\n",
    "2.  Assign result to variable `d_artist`.\n",
    "3. Assign their `artist_id` in the data to the variable `artist_id`."
   ]
  },
  {
   "cell_type": "code",
   "execution_count": null,
   "metadata": {},
   "outputs": [],
   "source": [
    "# find favorite artist, assign to d_artist\n",
    "\n",
    "# get artist id, assign to artist_id"
   ]
  },
  {
   "cell_type": "markdown",
   "metadata": {},
   "source": [
    "Get your artist's hit songs and albums\n",
    "--------------------------------------\n",
    "\n",
    "Use the function `get_billboard`\n",
    "\n",
    "1. What kind of object does it return?\n",
    "2. How many albums are there?\n",
    "3. How many songs are there?\n",
    "4. What is the last song on the list?"
   ]
  },
  {
   "cell_type": "code",
   "execution_count": null,
   "metadata": {},
   "outputs": [],
   "source": [
    "# assign data returned from get_billboard to d_hits\n",
    "\n",
    "# number of albums\n",
    "\n",
    "# number of songs\n",
    "\n",
    "# last song\n"
   ]
  },
  {
   "cell_type": "markdown",
   "metadata": {},
   "source": [
    "Plot Data\n",
    "---------\n",
    "\n",
    "1. pass only the list of songs in `d_hits` to `plot_hits`"
   ]
  },
  {
   "cell_type": "code",
   "execution_count": null,
   "metadata": {},
   "outputs": [],
   "source": []
  },
  {
   "cell_type": "markdown",
   "metadata": {},
   "source": [
    "Finally, put the hit songs of two artists into a single list and plot\n",
    "-----------------------------------------------------------------"
   ]
  },
  {
   "cell_type": "code",
   "execution_count": null,
   "metadata": {},
   "outputs": [],
   "source": [
    "# Need to repeat steps above for two artists\n",
    "# and add the songs to all_songs somehow...\n",
    "all_songs = []\n",
    "\n",
    "# artist one's songs\n",
    "\n",
    "# artist two's songs\n",
    "\n",
    "# extend all_songs to include both\n",
    "\n",
    "# plot\n"
   ]
  },
  {
   "cell_type": "markdown",
   "metadata": {},
   "source": [
    "Bonus Sections\n",
    "=============="
   ]
  },
  {
   "cell_type": "markdown",
   "metadata": {},
   "source": [
    "(Advanced) Taking a look at Pandas\n",
    "----------------------------------------------------------------------"
   ]
  },
  {
   "cell_type": "code",
   "execution_count": null,
   "metadata": {},
   "outputs": [],
   "source": [
    "import pandas as pd\n",
    "\n",
    "# uncomment below to see a convenient way to view the data\n",
    "# df = pd.DataFrame(d_hits['songs'])\n",
    "# df"
   ]
  },
  {
   "cell_type": "markdown",
   "metadata": {},
   "source": [
    "(Advanced) Taking a look at plotnine\n",
    "------------------------------------"
   ]
  },
  {
   "cell_type": "code",
   "execution_count": null,
   "metadata": {},
   "outputs": [],
   "source": [
    "import pandas as pd\n",
    "from plotnine import ggplot\n",
    "from plotnine import geom_text, geom_point, aes\n",
    "\n",
    "# plot assumes that there is a list of songs, like the one\n",
    "# passed to plot_hits\n",
    "song_id = '431262'\n",
    "data = get_billboard('http://billboard.modulo.site/artist/%s' % song_id)\n",
    "\n",
    "# cleans up the data, since highest_rank and weeks_on_chart\n",
    "# are both represented as strings\n",
    "df = pd.DataFrame(data['songs'])\n",
    "df['highest_rank'] = df['highest_rank'].astype(int)\n",
    "df['weeks_on_chart'] = df['weeks_on_chart'].astype(int)\n",
    "\n",
    "# actual plotting code\n",
    "ggplot(df, aes(x = 'weeks_on_chart', y = 'highest_rank')) \\\n",
    "    + geom_point() \\\n",
    "    + geom_text(aes(label = 'song_name'), nudge_x = .5, size = 6, ha = 'left')"
   ]
  },
  {
   "cell_type": "markdown",
   "metadata": {},
   "source": [
    "(Advanced) Choose one song, and get its first year on the charts\n",
    "------------------------------------------------\n",
    "\n",
    "1. Assign `first_week` to be the date of the earliest ranking\n",
    "2. Assign `first_year` to be just the year, pulled from `first_week`\n",
    "3. Make sure `first_year` is a python `int` type"
   ]
  },
  {
   "cell_type": "code",
   "execution_count": null,
   "metadata": {},
   "outputs": [],
   "source": [
    "\n",
    "# 1. get the date for the earliest ranking\n",
    "\n",
    "\n",
    "# 2. get just the year\n",
    "\n",
    "\n",
    "# 3. check its type\n",
    "\n",
    "\n",
    "# 4. make into an integer\n"
   ]
  }
 ],
 "metadata": {
  "anaconda-cloud": {},
  "kernelspec": {
   "display_name": "Python 3",
   "language": "python",
   "name": "python3"
  },
  "language_info": {
   "codemirror_mode": {
    "name": "ipython",
    "version": 3
   },
   "file_extension": ".py",
   "mimetype": "text/x-python",
   "name": "python",
   "nbconvert_exporter": "python",
   "pygments_lexer": "ipython3",
   "version": "3.5.2"
  }
 },
 "nbformat": 4,
 "nbformat_minor": 2
}
